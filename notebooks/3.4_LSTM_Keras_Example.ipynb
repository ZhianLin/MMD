{
 "cells": [
  {
   "cell_type": "markdown",
   "metadata": {},
   "source": [
    "### Develop a Small LSTM Recurrent Neural Network"
   ]
  },
  {
   "cell_type": "markdown",
   "metadata": {},
   "source": [
    "Let’s start off by importing the classes and functions we intend to use to train our model."
   ]
  },
  {
   "cell_type": "code",
   "execution_count": 1,
   "metadata": {},
   "outputs": [
    {
     "name": "stderr",
     "output_type": "stream",
     "text": [
      "/usr/local/lib/python3.6/dist-packages/h5py/__init__.py:36: FutureWarning: Conversion of the second argument of issubdtype from `float` to `np.floating` is deprecated. In future, it will be treated as `np.float64 == np.dtype(float).type`.\n",
      "  from ._conv import register_converters as _register_converters\n",
      "Using TensorFlow backend.\n",
      "/usr/lib/python3.6/importlib/_bootstrap.py:219: RuntimeWarning: compiletime version 3.5 of module 'tensorflow.python.framework.fast_tensor_util' does not match runtime version 3.6\n",
      "  return f(*args, **kwds)\n"
     ]
    }
   ],
   "source": [
    "import os\n",
    "#os.environ[\"KERAS_BACKEND\"] = \"theano\"\n",
    "os.environ[\"KERAS_BACKEND\"] = \"tensorflow\"\n",
    "\n",
    "import sys\n",
    "import time\n",
    "import re\n",
    "import numpy\n",
    "import matplotlib.pyplot as plt\n",
    "from keras.models import Sequential\n",
    "from keras.layers import Dense\n",
    "from keras.layers import Dropout\n",
    "from keras.layers import LSTM\n",
    "from keras.callbacks import ModelCheckpoint\n",
    "from keras.utils import np_utils\n",
    "import tensorflow as tf"
   ]
  },
  {
   "cell_type": "code",
   "execution_count": 2,
   "metadata": {},
   "outputs": [],
   "source": [
    "# fix random seed for reproducibility\n",
    "seed = 7\n",
    "numpy.random.seed(seed)"
   ]
  },
  {
   "cell_type": "markdown",
   "metadata": {},
   "source": [
    "First we'll develop a small ANN with Keras:"
   ]
  },
  {
   "cell_type": "code",
   "execution_count": 3,
   "metadata": {},
   "outputs": [],
   "source": [
    "# load pima indians dataset\n",
    "dataset = numpy.loadtxt(\"../datasets/CSVs/pima-indians-diabetes.data\", delimiter=\",\")"
   ]
  },
  {
   "cell_type": "code",
   "execution_count": 4,
   "metadata": {},
   "outputs": [],
   "source": [
    "# split into input (X) and output (Y) variables\n",
    "X = dataset[:,0:8]\n",
    "Y = dataset[:,8]"
   ]
  },
  {
   "cell_type": "code",
   "execution_count": 5,
   "metadata": {},
   "outputs": [],
   "source": [
    "# create model\n",
    "model = Sequential()\n",
    "model.add(Dense(12, input_dim=8, activation=\"relu\", kernel_initializer=\"uniform\"))\n",
    "model.add(Dense(8, activation=\"relu\", kernel_initializer=\"uniform\"))\n",
    "model.add(Dense(1, activation=\"sigmoid\", kernel_initializer=\"uniform\"))"
   ]
  },
  {
   "cell_type": "code",
   "execution_count": 6,
   "metadata": {},
   "outputs": [],
   "source": [
    "# Compile model\n",
    "model.compile(loss='binary_crossentropy', optimizer='adam', metrics=['accuracy'])"
   ]
  },
  {
   "cell_type": "code",
   "execution_count": 7,
   "metadata": {
    "scrolled": true
   },
   "outputs": [
    {
     "name": "stdout",
     "output_type": "stream",
     "text": [
      "Train on 514 samples, validate on 254 samples\n",
      "Epoch 1/200\n",
      "514/514 [==============================] - 4s - loss: 0.6796 - acc: 0.6401 - val_loss: 0.6584 - val_acc: 0.6732\n",
      "Epoch 2/200\n",
      "514/514 [==============================] - 0s - loss: 0.6688 - acc: 0.6401 - val_loss: 0.6537 - val_acc: 0.6732\n",
      "Epoch 3/200\n",
      "514/514 [==============================] - 0s - loss: 0.6615 - acc: 0.6401 - val_loss: 0.6507 - val_acc: 0.6732\n",
      "Epoch 4/200\n",
      "514/514 [==============================] - 0s - loss: 0.6537 - acc: 0.6401 - val_loss: 0.6443 - val_acc: 0.6732\n",
      "Epoch 5/200\n",
      "514/514 [==============================] - 0s - loss: 0.6440 - acc: 0.6518 - val_loss: 0.6340 - val_acc: 0.6772\n",
      "Epoch 6/200\n",
      "514/514 [==============================] - 0s - loss: 0.6377 - acc: 0.6420 - val_loss: 0.6238 - val_acc: 0.6929\n",
      "Epoch 7/200\n",
      "514/514 [==============================] - 0s - loss: 0.6291 - acc: 0.6595 - val_loss: 0.6123 - val_acc: 0.6850\n",
      "Epoch 8/200\n",
      "514/514 [==============================] - 0s - loss: 0.6219 - acc: 0.6751 - val_loss: 0.6057 - val_acc: 0.7047\n",
      "Epoch 9/200\n",
      "514/514 [==============================] - 0s - loss: 0.6136 - acc: 0.6615 - val_loss: 0.6026 - val_acc: 0.7047\n",
      "Epoch 10/200\n",
      "514/514 [==============================] - 0s - loss: 0.6081 - acc: 0.6868 - val_loss: 0.6007 - val_acc: 0.6929\n",
      "Epoch 11/200\n",
      "514/514 [==============================] - 0s - loss: 0.6034 - acc: 0.6809 - val_loss: 0.6025 - val_acc: 0.6850\n",
      "Epoch 12/200\n",
      "514/514 [==============================] - 0s - loss: 0.6051 - acc: 0.6829 - val_loss: 0.5844 - val_acc: 0.7008\n",
      "Epoch 13/200\n",
      "514/514 [==============================] - 0s - loss: 0.6050 - acc: 0.6887 - val_loss: 0.5862 - val_acc: 0.6929\n",
      "Epoch 14/200\n",
      "514/514 [==============================] - 0s - loss: 0.5932 - acc: 0.7023 - val_loss: 0.5841 - val_acc: 0.7165\n",
      "Epoch 15/200\n",
      "514/514 [==============================] - 0s - loss: 0.5896 - acc: 0.6984 - val_loss: 0.5808 - val_acc: 0.6890\n",
      "Epoch 16/200\n",
      "514/514 [==============================] - 0s - loss: 0.5963 - acc: 0.6984 - val_loss: 0.5778 - val_acc: 0.7087\n",
      "Epoch 17/200\n",
      "514/514 [==============================] - 0s - loss: 0.5894 - acc: 0.7023 - val_loss: 0.5784 - val_acc: 0.6929\n",
      "Epoch 18/200\n",
      "514/514 [==============================] - 0s - loss: 0.5815 - acc: 0.7082 - val_loss: 0.5783 - val_acc: 0.7205\n",
      "Epoch 19/200\n",
      "514/514 [==============================] - 0s - loss: 0.5850 - acc: 0.6907 - val_loss: 0.5794 - val_acc: 0.6969\n",
      "Epoch 20/200\n",
      "514/514 [==============================] - 0s - loss: 0.5834 - acc: 0.7140 - val_loss: 0.5726 - val_acc: 0.6929\n",
      "Epoch 21/200\n",
      "514/514 [==============================] - 0s - loss: 0.5761 - acc: 0.7082 - val_loss: 0.5805 - val_acc: 0.7008\n",
      "Epoch 22/200\n",
      "514/514 [==============================] - 0s - loss: 0.5706 - acc: 0.7335 - val_loss: 0.5762 - val_acc: 0.6772\n",
      "Epoch 23/200\n",
      "514/514 [==============================] - 0s - loss: 0.5722 - acc: 0.7101 - val_loss: 0.5727 - val_acc: 0.6850\n",
      "Epoch 24/200\n",
      "514/514 [==============================] - 0s - loss: 0.5587 - acc: 0.7432 - val_loss: 0.5682 - val_acc: 0.6890\n",
      "Epoch 25/200\n",
      "514/514 [==============================] - 0s - loss: 0.5666 - acc: 0.7315 - val_loss: 0.5649 - val_acc: 0.6890\n",
      "Epoch 26/200\n",
      "514/514 [==============================] - 0s - loss: 0.5622 - acc: 0.7432 - val_loss: 0.5650 - val_acc: 0.7165\n",
      "Epoch 27/200\n",
      "514/514 [==============================] - 0s - loss: 0.5604 - acc: 0.7335 - val_loss: 0.5668 - val_acc: 0.7087\n",
      "Epoch 28/200\n",
      "514/514 [==============================] - 0s - loss: 0.5618 - acc: 0.7160 - val_loss: 0.6282 - val_acc: 0.5984\n",
      "Epoch 29/200\n",
      "514/514 [==============================] - 0s - loss: 0.5607 - acc: 0.7179 - val_loss: 0.5706 - val_acc: 0.7205\n",
      "Epoch 30/200\n",
      "514/514 [==============================] - 0s - loss: 0.5557 - acc: 0.7374 - val_loss: 0.5689 - val_acc: 0.7126\n",
      "Epoch 31/200\n",
      "514/514 [==============================] - 0s - loss: 0.5490 - acc: 0.7198 - val_loss: 0.5625 - val_acc: 0.7087\n",
      "Epoch 32/200\n",
      "514/514 [==============================] - 0s - loss: 0.5613 - acc: 0.7393 - val_loss: 0.5939 - val_acc: 0.6850\n",
      "Epoch 33/200\n",
      "514/514 [==============================] - 0s - loss: 0.5674 - acc: 0.7257 - val_loss: 0.5818 - val_acc: 0.7047\n",
      "Epoch 34/200\n",
      "514/514 [==============================] - 0s - loss: 0.5520 - acc: 0.7412 - val_loss: 0.5647 - val_acc: 0.7087\n",
      "Epoch 35/200\n",
      "514/514 [==============================] - 0s - loss: 0.5450 - acc: 0.7374 - val_loss: 0.5594 - val_acc: 0.7087\n",
      "Epoch 36/200\n",
      "514/514 [==============================] - 0s - loss: 0.5551 - acc: 0.7393 - val_loss: 0.5680 - val_acc: 0.7047\n",
      "Epoch 37/200\n",
      "514/514 [==============================] - 0s - loss: 0.5456 - acc: 0.7354 - val_loss: 0.5610 - val_acc: 0.7283\n",
      "Epoch 38/200\n",
      "514/514 [==============================] - 0s - loss: 0.5441 - acc: 0.7432 - val_loss: 0.5499 - val_acc: 0.7323\n",
      "Epoch 39/200\n",
      "514/514 [==============================] - 0s - loss: 0.5526 - acc: 0.7121 - val_loss: 0.5534 - val_acc: 0.7205\n",
      "Epoch 40/200\n",
      "514/514 [==============================] - 0s - loss: 0.5496 - acc: 0.7335 - val_loss: 0.5519 - val_acc: 0.7165\n",
      "Epoch 41/200\n",
      "514/514 [==============================] - 0s - loss: 0.5430 - acc: 0.7471 - val_loss: 0.5522 - val_acc: 0.7087\n",
      "Epoch 42/200\n",
      "514/514 [==============================] - 0s - loss: 0.5473 - acc: 0.7490 - val_loss: 0.5622 - val_acc: 0.7205\n",
      "Epoch 43/200\n",
      "514/514 [==============================] - 0s - loss: 0.5445 - acc: 0.7471 - val_loss: 0.5645 - val_acc: 0.7244\n",
      "Epoch 44/200\n",
      "514/514 [==============================] - 0s - loss: 0.5443 - acc: 0.7276 - val_loss: 0.5552 - val_acc: 0.7362\n",
      "Epoch 45/200\n",
      "514/514 [==============================] - 0s - loss: 0.5364 - acc: 0.7335 - val_loss: 0.5801 - val_acc: 0.6575\n",
      "Epoch 46/200\n",
      "514/514 [==============================] - 0s - loss: 0.5487 - acc: 0.7257 - val_loss: 0.5657 - val_acc: 0.7047\n",
      "Epoch 47/200\n",
      "514/514 [==============================] - 0s - loss: 0.5451 - acc: 0.7296 - val_loss: 0.5548 - val_acc: 0.7323\n",
      "Epoch 48/200\n",
      "514/514 [==============================] - 0s - loss: 0.5427 - acc: 0.7198 - val_loss: 0.5502 - val_acc: 0.7323\n",
      "Epoch 49/200\n",
      "514/514 [==============================] - 0s - loss: 0.5393 - acc: 0.7432 - val_loss: 0.5499 - val_acc: 0.7205\n",
      "Epoch 50/200\n",
      "514/514 [==============================] - 0s - loss: 0.5394 - acc: 0.7393 - val_loss: 0.5691 - val_acc: 0.6890\n",
      "Epoch 51/200\n",
      "514/514 [==============================] - 0s - loss: 0.5318 - acc: 0.7549 - val_loss: 0.5479 - val_acc: 0.7244\n",
      "Epoch 52/200\n",
      "514/514 [==============================] - 0s - loss: 0.5382 - acc: 0.7412 - val_loss: 0.5600 - val_acc: 0.7126\n",
      "Epoch 53/200\n",
      "514/514 [==============================] - 0s - loss: 0.5336 - acc: 0.7451 - val_loss: 0.5469 - val_acc: 0.7402\n",
      "Epoch 54/200\n",
      "514/514 [==============================] - 0s - loss: 0.5327 - acc: 0.7335 - val_loss: 0.5504 - val_acc: 0.7480\n",
      "Epoch 55/200\n",
      "514/514 [==============================] - 0s - loss: 0.5310 - acc: 0.7471 - val_loss: 0.5510 - val_acc: 0.7244\n",
      "Epoch 56/200\n",
      "514/514 [==============================] - 0s - loss: 0.5373 - acc: 0.7296 - val_loss: 0.5553 - val_acc: 0.7205\n",
      "Epoch 57/200\n",
      "514/514 [==============================] - 0s - loss: 0.5361 - acc: 0.7490 - val_loss: 0.5620 - val_acc: 0.7244\n",
      "Epoch 58/200\n",
      "514/514 [==============================] - 0s - loss: 0.5307 - acc: 0.7335 - val_loss: 0.5630 - val_acc: 0.6929\n",
      "Epoch 59/200\n",
      "514/514 [==============================] - 0s - loss: 0.5380 - acc: 0.7296 - val_loss: 0.5463 - val_acc: 0.7362\n",
      "Epoch 60/200\n",
      "514/514 [==============================] - 0s - loss: 0.5330 - acc: 0.7354 - val_loss: 0.5453 - val_acc: 0.7283\n",
      "Epoch 61/200\n",
      "514/514 [==============================] - 0s - loss: 0.5376 - acc: 0.7471 - val_loss: 0.5511 - val_acc: 0.7283\n",
      "Epoch 62/200\n",
      "514/514 [==============================] - 0s - loss: 0.5343 - acc: 0.7393 - val_loss: 0.5462 - val_acc: 0.7283\n",
      "Epoch 63/200\n",
      "514/514 [==============================] - 0s - loss: 0.5279 - acc: 0.7412 - val_loss: 0.5424 - val_acc: 0.7362\n",
      "Epoch 64/200\n",
      "514/514 [==============================] - 0s - loss: 0.5299 - acc: 0.7471 - val_loss: 0.5428 - val_acc: 0.7520\n",
      "Epoch 65/200\n",
      "514/514 [==============================] - 0s - loss: 0.5308 - acc: 0.7432 - val_loss: 0.5590 - val_acc: 0.7283\n",
      "Epoch 66/200\n",
      "514/514 [==============================] - 0s - loss: 0.5342 - acc: 0.7276 - val_loss: 0.5351 - val_acc: 0.7559\n",
      "Epoch 67/200\n",
      "514/514 [==============================] - 0s - loss: 0.5251 - acc: 0.7432 - val_loss: 0.5549 - val_acc: 0.7520\n",
      "Epoch 68/200\n",
      "514/514 [==============================] - 0s - loss: 0.5331 - acc: 0.7315 - val_loss: 0.5579 - val_acc: 0.7323\n",
      "Epoch 69/200\n",
      "514/514 [==============================] - 0s - loss: 0.5299 - acc: 0.7354 - val_loss: 0.5449 - val_acc: 0.7441\n",
      "Epoch 70/200\n",
      "514/514 [==============================] - 0s - loss: 0.5304 - acc: 0.7529 - val_loss: 0.5428 - val_acc: 0.7402\n",
      "Epoch 71/200\n",
      "514/514 [==============================] - 0s - loss: 0.5301 - acc: 0.7412 - val_loss: 0.5461 - val_acc: 0.7559\n",
      "Epoch 72/200\n",
      "514/514 [==============================] - 0s - loss: 0.5260 - acc: 0.7549 - val_loss: 0.5294 - val_acc: 0.7795\n",
      "Epoch 73/200\n",
      "514/514 [==============================] - 0s - loss: 0.5312 - acc: 0.7374 - val_loss: 0.5308 - val_acc: 0.7520\n",
      "Epoch 74/200\n",
      "514/514 [==============================] - 0s - loss: 0.5232 - acc: 0.7412 - val_loss: 0.5394 - val_acc: 0.7559\n",
      "Epoch 75/200\n",
      "514/514 [==============================] - 0s - loss: 0.5244 - acc: 0.7374 - val_loss: 0.5326 - val_acc: 0.7520\n",
      "Epoch 76/200\n",
      "514/514 [==============================] - 0s - loss: 0.5234 - acc: 0.7354 - val_loss: 0.5298 - val_acc: 0.7323\n",
      "Epoch 77/200\n",
      "514/514 [==============================] - 0s - loss: 0.5212 - acc: 0.7490 - val_loss: 0.5268 - val_acc: 0.7520\n",
      "Epoch 78/200\n",
      "514/514 [==============================] - 0s - loss: 0.5214 - acc: 0.7490 - val_loss: 0.5259 - val_acc: 0.7598\n",
      "Epoch 79/200\n",
      "514/514 [==============================] - 0s - loss: 0.5286 - acc: 0.7471 - val_loss: 0.5397 - val_acc: 0.7402\n",
      "Epoch 80/200\n",
      "514/514 [==============================] - 0s - loss: 0.5204 - acc: 0.7490 - val_loss: 0.5349 - val_acc: 0.7638\n",
      "Epoch 81/200\n",
      "514/514 [==============================] - 0s - loss: 0.5296 - acc: 0.7432 - val_loss: 0.5330 - val_acc: 0.7638\n",
      "Epoch 82/200\n",
      "514/514 [==============================] - 0s - loss: 0.5222 - acc: 0.7276 - val_loss: 0.5256 - val_acc: 0.7677\n",
      "Epoch 83/200\n",
      "514/514 [==============================] - 0s - loss: 0.5166 - acc: 0.7374 - val_loss: 0.5282 - val_acc: 0.7441\n",
      "Epoch 84/200\n",
      "514/514 [==============================] - 0s - loss: 0.5260 - acc: 0.7354 - val_loss: 0.5292 - val_acc: 0.7677\n",
      "Epoch 85/200\n",
      "514/514 [==============================] - 0s - loss: 0.5211 - acc: 0.7510 - val_loss: 0.5292 - val_acc: 0.7677\n",
      "Epoch 86/200\n",
      "514/514 [==============================] - 0s - loss: 0.5164 - acc: 0.7471 - val_loss: 0.5311 - val_acc: 0.7559\n",
      "Epoch 87/200\n",
      "514/514 [==============================] - 0s - loss: 0.5160 - acc: 0.7451 - val_loss: 0.5258 - val_acc: 0.7756\n",
      "Epoch 88/200\n",
      "514/514 [==============================] - 0s - loss: 0.5154 - acc: 0.7588 - val_loss: 0.5326 - val_acc: 0.7677\n",
      "Epoch 89/200\n",
      "514/514 [==============================] - 0s - loss: 0.5139 - acc: 0.7471 - val_loss: 0.5306 - val_acc: 0.7441\n",
      "Epoch 90/200\n",
      "514/514 [==============================] - 0s - loss: 0.5178 - acc: 0.7510 - val_loss: 0.5374 - val_acc: 0.7598\n",
      "Epoch 91/200\n",
      "514/514 [==============================] - 0s - loss: 0.5189 - acc: 0.7451 - val_loss: 0.5288 - val_acc: 0.7480\n",
      "Epoch 92/200\n",
      "514/514 [==============================] - 0s - loss: 0.5238 - acc: 0.7412 - val_loss: 0.5198 - val_acc: 0.7520\n",
      "Epoch 93/200\n",
      "514/514 [==============================] - 0s - loss: 0.5130 - acc: 0.7626 - val_loss: 0.5278 - val_acc: 0.7598\n",
      "Epoch 94/200\n",
      "514/514 [==============================] - 0s - loss: 0.5195 - acc: 0.7412 - val_loss: 0.5175 - val_acc: 0.7638\n",
      "Epoch 95/200\n",
      "514/514 [==============================] - 0s - loss: 0.5163 - acc: 0.7626 - val_loss: 0.5348 - val_acc: 0.7480\n",
      "Epoch 96/200\n",
      "514/514 [==============================] - 0s - loss: 0.5207 - acc: 0.7335 - val_loss: 0.5259 - val_acc: 0.7756\n",
      "Epoch 97/200\n",
      "514/514 [==============================] - 0s - loss: 0.5142 - acc: 0.7510 - val_loss: 0.5201 - val_acc: 0.7520\n",
      "Epoch 98/200\n",
      "514/514 [==============================] - 0s - loss: 0.5251 - acc: 0.7490 - val_loss: 0.5261 - val_acc: 0.7677\n",
      "Epoch 99/200\n",
      "514/514 [==============================] - 0s - loss: 0.5224 - acc: 0.7432 - val_loss: 0.5292 - val_acc: 0.7598\n",
      "Epoch 100/200\n",
      "514/514 [==============================] - 0s - loss: 0.5154 - acc: 0.7471 - val_loss: 0.5134 - val_acc: 0.7756\n",
      "Epoch 101/200\n",
      "514/514 [==============================] - 0s - loss: 0.5124 - acc: 0.7471 - val_loss: 0.5196 - val_acc: 0.7520\n",
      "Epoch 102/200\n",
      "514/514 [==============================] - 0s - loss: 0.5100 - acc: 0.7510 - val_loss: 0.5112 - val_acc: 0.7717\n",
      "Epoch 103/200\n",
      "514/514 [==============================] - 0s - loss: 0.5164 - acc: 0.7510 - val_loss: 0.5245 - val_acc: 0.7677\n",
      "Epoch 104/200\n",
      "514/514 [==============================] - 0s - loss: 0.5125 - acc: 0.7432 - val_loss: 0.5093 - val_acc: 0.7795\n",
      "Epoch 105/200\n",
      "514/514 [==============================] - 0s - loss: 0.5092 - acc: 0.7646 - val_loss: 0.5143 - val_acc: 0.7717\n",
      "Epoch 106/200\n",
      "514/514 [==============================] - 0s - loss: 0.5168 - acc: 0.7354 - val_loss: 0.5135 - val_acc: 0.7480\n",
      "Epoch 107/200\n",
      "514/514 [==============================] - 0s - loss: 0.5119 - acc: 0.7432 - val_loss: 0.5253 - val_acc: 0.7441\n",
      "Epoch 108/200\n",
      "514/514 [==============================] - 0s - loss: 0.5215 - acc: 0.7529 - val_loss: 0.5165 - val_acc: 0.7717\n",
      "Epoch 109/200\n",
      "514/514 [==============================] - 0s - loss: 0.5116 - acc: 0.7588 - val_loss: 0.5103 - val_acc: 0.7677\n",
      "Epoch 110/200\n",
      "514/514 [==============================] - 0s - loss: 0.5058 - acc: 0.7626 - val_loss: 0.5471 - val_acc: 0.7520\n",
      "Epoch 111/200\n",
      "514/514 [==============================] - 0s - loss: 0.5201 - acc: 0.7568 - val_loss: 0.5178 - val_acc: 0.7717\n",
      "Epoch 112/200\n",
      "514/514 [==============================] - 0s - loss: 0.5027 - acc: 0.7490 - val_loss: 0.5186 - val_acc: 0.7638\n",
      "Epoch 113/200\n",
      "514/514 [==============================] - 0s - loss: 0.5122 - acc: 0.7626 - val_loss: 0.5134 - val_acc: 0.7559\n",
      "Epoch 114/200\n",
      "514/514 [==============================] - 0s - loss: 0.5056 - acc: 0.7529 - val_loss: 0.5111 - val_acc: 0.7874\n",
      "Epoch 115/200\n",
      "514/514 [==============================] - 0s - loss: 0.5090 - acc: 0.7432 - val_loss: 0.5074 - val_acc: 0.7638\n",
      "Epoch 116/200\n",
      "514/514 [==============================] - 0s - loss: 0.5079 - acc: 0.7510 - val_loss: 0.5054 - val_acc: 0.7756\n",
      "Epoch 117/200\n",
      "514/514 [==============================] - 0s - loss: 0.5142 - acc: 0.7451 - val_loss: 0.5179 - val_acc: 0.7598\n",
      "Epoch 118/200\n",
      "514/514 [==============================] - 0s - loss: 0.5047 - acc: 0.7490 - val_loss: 0.5046 - val_acc: 0.7795\n",
      "Epoch 119/200\n",
      "514/514 [==============================] - 0s - loss: 0.5103 - acc: 0.7549 - val_loss: 0.5199 - val_acc: 0.7835\n",
      "Epoch 120/200\n",
      "514/514 [==============================] - 0s - loss: 0.5055 - acc: 0.7432 - val_loss: 0.5121 - val_acc: 0.7795\n",
      "Epoch 121/200\n",
      "514/514 [==============================] - 0s - loss: 0.5056 - acc: 0.7549 - val_loss: 0.5076 - val_acc: 0.7638\n",
      "Epoch 122/200\n",
      "514/514 [==============================] - 0s - loss: 0.5081 - acc: 0.7393 - val_loss: 0.5065 - val_acc: 0.7913\n",
      "Epoch 123/200\n",
      "514/514 [==============================] - 0s - loss: 0.5064 - acc: 0.7471 - val_loss: 0.5214 - val_acc: 0.7559\n",
      "Epoch 124/200\n",
      "514/514 [==============================] - 0s - loss: 0.5057 - acc: 0.7510 - val_loss: 0.5124 - val_acc: 0.7677\n",
      "Epoch 125/200\n",
      "514/514 [==============================] - 0s - loss: 0.5126 - acc: 0.7607 - val_loss: 0.5152 - val_acc: 0.7559\n",
      "Epoch 126/200\n",
      "514/514 [==============================] - 0s - loss: 0.5029 - acc: 0.7451 - val_loss: 0.5189 - val_acc: 0.7441\n",
      "Epoch 127/200\n",
      "514/514 [==============================] - 0s - loss: 0.5011 - acc: 0.7510 - val_loss: 0.5043 - val_acc: 0.7756\n",
      "Epoch 128/200\n",
      "514/514 [==============================] - 0s - loss: 0.5003 - acc: 0.7685 - val_loss: 0.5016 - val_acc: 0.7835\n",
      "Epoch 129/200\n",
      "514/514 [==============================] - 0s - loss: 0.5047 - acc: 0.7432 - val_loss: 0.5083 - val_acc: 0.7677\n",
      "Epoch 130/200\n",
      "514/514 [==============================] - 0s - loss: 0.5017 - acc: 0.7510 - val_loss: 0.5040 - val_acc: 0.7874\n",
      "Epoch 131/200\n"
     ]
    },
    {
     "name": "stdout",
     "output_type": "stream",
     "text": [
      "514/514 [==============================] - 0s - loss: 0.5008 - acc: 0.7549 - val_loss: 0.5211 - val_acc: 0.7441\n",
      "Epoch 132/200\n",
      "514/514 [==============================] - 0s - loss: 0.5037 - acc: 0.7549 - val_loss: 0.5007 - val_acc: 0.7874\n",
      "Epoch 133/200\n",
      "514/514 [==============================] - 0s - loss: 0.4986 - acc: 0.7588 - val_loss: 0.4997 - val_acc: 0.7874\n",
      "Epoch 134/200\n",
      "514/514 [==============================] - 0s - loss: 0.4973 - acc: 0.7588 - val_loss: 0.5082 - val_acc: 0.7677\n",
      "Epoch 135/200\n",
      "514/514 [==============================] - 0s - loss: 0.4968 - acc: 0.7529 - val_loss: 0.5024 - val_acc: 0.7756\n",
      "Epoch 136/200\n",
      "514/514 [==============================] - 0s - loss: 0.4983 - acc: 0.7412 - val_loss: 0.4954 - val_acc: 0.7913\n",
      "Epoch 137/200\n",
      "514/514 [==============================] - 0s - loss: 0.5017 - acc: 0.7412 - val_loss: 0.5071 - val_acc: 0.7717\n",
      "Epoch 138/200\n",
      "514/514 [==============================] - 0s - loss: 0.4954 - acc: 0.7568 - val_loss: 0.5004 - val_acc: 0.7795\n",
      "Epoch 139/200\n",
      "514/514 [==============================] - 0s - loss: 0.4979 - acc: 0.7549 - val_loss: 0.4953 - val_acc: 0.7835\n",
      "Epoch 140/200\n",
      "514/514 [==============================] - 0s - loss: 0.4894 - acc: 0.7529 - val_loss: 0.5020 - val_acc: 0.7835\n",
      "Epoch 141/200\n",
      "514/514 [==============================] - 0s - loss: 0.4962 - acc: 0.7626 - val_loss: 0.4875 - val_acc: 0.7953\n",
      "Epoch 142/200\n",
      "514/514 [==============================] - 0s - loss: 0.4985 - acc: 0.7607 - val_loss: 0.4969 - val_acc: 0.7638\n",
      "Epoch 143/200\n",
      "514/514 [==============================] - 0s - loss: 0.4998 - acc: 0.7529 - val_loss: 0.4968 - val_acc: 0.7717\n",
      "Epoch 144/200\n",
      "514/514 [==============================] - 0s - loss: 0.5051 - acc: 0.7490 - val_loss: 0.4902 - val_acc: 0.7874\n",
      "Epoch 145/200\n",
      "514/514 [==============================] - 0s - loss: 0.5015 - acc: 0.7510 - val_loss: 0.4910 - val_acc: 0.7795\n",
      "Epoch 146/200\n",
      "514/514 [==============================] - 0s - loss: 0.4902 - acc: 0.7549 - val_loss: 0.5083 - val_acc: 0.7717\n",
      "Epoch 147/200\n",
      "514/514 [==============================] - 0s - loss: 0.4921 - acc: 0.7626 - val_loss: 0.4896 - val_acc: 0.7913\n",
      "Epoch 148/200\n",
      "514/514 [==============================] - 0s - loss: 0.4923 - acc: 0.7646 - val_loss: 0.4963 - val_acc: 0.7677\n",
      "Epoch 149/200\n",
      "514/514 [==============================] - 0s - loss: 0.4904 - acc: 0.7626 - val_loss: 0.4941 - val_acc: 0.7795\n",
      "Epoch 150/200\n",
      "514/514 [==============================] - 0s - loss: 0.4885 - acc: 0.7607 - val_loss: 0.5029 - val_acc: 0.7795\n",
      "Epoch 151/200\n",
      "514/514 [==============================] - 0s - loss: 0.4903 - acc: 0.7490 - val_loss: 0.4873 - val_acc: 0.7874\n",
      "Epoch 152/200\n",
      "514/514 [==============================] - 0s - loss: 0.4913 - acc: 0.7704 - val_loss: 0.4882 - val_acc: 0.7795\n",
      "Epoch 153/200\n",
      "514/514 [==============================] - 0s - loss: 0.4917 - acc: 0.7607 - val_loss: 0.4958 - val_acc: 0.7638\n",
      "Epoch 154/200\n",
      "514/514 [==============================] - 0s - loss: 0.4897 - acc: 0.7451 - val_loss: 0.4803 - val_acc: 0.8031\n",
      "Epoch 155/200\n",
      "514/514 [==============================] - 0s - loss: 0.4894 - acc: 0.7607 - val_loss: 0.4885 - val_acc: 0.7835\n",
      "Epoch 156/200\n",
      "514/514 [==============================] - 0s - loss: 0.4851 - acc: 0.7588 - val_loss: 0.4877 - val_acc: 0.7756\n",
      "Epoch 157/200\n",
      "514/514 [==============================] - 0s - loss: 0.5038 - acc: 0.7471 - val_loss: 0.4791 - val_acc: 0.7913\n",
      "Epoch 158/200\n",
      "514/514 [==============================] - 0s - loss: 0.4866 - acc: 0.7549 - val_loss: 0.4856 - val_acc: 0.7795\n",
      "Epoch 159/200\n",
      "514/514 [==============================] - 0s - loss: 0.4818 - acc: 0.7665 - val_loss: 0.4840 - val_acc: 0.7913\n",
      "Epoch 160/200\n",
      "514/514 [==============================] - 0s - loss: 0.4823 - acc: 0.7529 - val_loss: 0.4917 - val_acc: 0.7874\n",
      "Epoch 161/200\n",
      "514/514 [==============================] - 0s - loss: 0.4784 - acc: 0.7607 - val_loss: 0.4765 - val_acc: 0.7953\n",
      "Epoch 162/200\n",
      "514/514 [==============================] - 0s - loss: 0.4814 - acc: 0.7704 - val_loss: 0.4871 - val_acc: 0.7756\n",
      "Epoch 163/200\n",
      "514/514 [==============================] - 0s - loss: 0.4886 - acc: 0.7724 - val_loss: 0.5013 - val_acc: 0.7677\n",
      "Epoch 164/200\n",
      "514/514 [==============================] - 0s - loss: 0.4803 - acc: 0.7665 - val_loss: 0.4832 - val_acc: 0.7874\n",
      "Epoch 165/200\n",
      "514/514 [==============================] - 0s - loss: 0.4794 - acc: 0.7549 - val_loss: 0.4804 - val_acc: 0.7953\n",
      "Epoch 166/200\n",
      "514/514 [==============================] - 0s - loss: 0.4772 - acc: 0.7588 - val_loss: 0.4917 - val_acc: 0.7835\n",
      "Epoch 167/200\n",
      "514/514 [==============================] - 0s - loss: 0.4891 - acc: 0.7510 - val_loss: 0.4881 - val_acc: 0.7913\n",
      "Epoch 168/200\n",
      "514/514 [==============================] - 0s - loss: 0.4775 - acc: 0.7626 - val_loss: 0.4827 - val_acc: 0.7835\n",
      "Epoch 169/200\n",
      "514/514 [==============================] - 0s - loss: 0.4787 - acc: 0.7626 - val_loss: 0.4929 - val_acc: 0.7835\n",
      "Epoch 170/200\n",
      "514/514 [==============================] - 0s - loss: 0.4780 - acc: 0.7724 - val_loss: 0.4943 - val_acc: 0.7835\n",
      "Epoch 171/200\n",
      "514/514 [==============================] - 0s - loss: 0.4819 - acc: 0.7626 - val_loss: 0.4856 - val_acc: 0.7756\n",
      "Epoch 172/200\n",
      "514/514 [==============================] - 0s - loss: 0.4691 - acc: 0.7860 - val_loss: 0.4805 - val_acc: 0.7717\n",
      "Epoch 173/200\n",
      "514/514 [==============================] - 0s - loss: 0.4827 - acc: 0.7568 - val_loss: 0.4794 - val_acc: 0.7992\n",
      "Epoch 174/200\n",
      "514/514 [==============================] - 0s - loss: 0.4712 - acc: 0.7879 - val_loss: 0.4898 - val_acc: 0.7756\n",
      "Epoch 175/200\n",
      "514/514 [==============================] - 0s - loss: 0.4702 - acc: 0.7704 - val_loss: 0.4780 - val_acc: 0.7953\n",
      "Epoch 176/200\n",
      "514/514 [==============================] - 0s - loss: 0.4747 - acc: 0.7685 - val_loss: 0.4844 - val_acc: 0.7795\n",
      "Epoch 177/200\n",
      "514/514 [==============================] - 0s - loss: 0.4705 - acc: 0.7724 - val_loss: 0.4932 - val_acc: 0.7756\n",
      "Epoch 178/200\n",
      "514/514 [==============================] - 0s - loss: 0.4746 - acc: 0.7685 - val_loss: 0.4942 - val_acc: 0.7795\n",
      "Epoch 179/200\n",
      "514/514 [==============================] - 0s - loss: 0.4681 - acc: 0.7840 - val_loss: 0.4745 - val_acc: 0.7953\n",
      "Epoch 180/200\n",
      "514/514 [==============================] - 0s - loss: 0.4746 - acc: 0.7685 - val_loss: 0.4779 - val_acc: 0.7874\n",
      "Epoch 181/200\n",
      "514/514 [==============================] - 0s - loss: 0.4590 - acc: 0.7802 - val_loss: 0.5107 - val_acc: 0.7717\n",
      "Epoch 182/200\n",
      "514/514 [==============================] - 0s - loss: 0.4854 - acc: 0.7490 - val_loss: 0.4771 - val_acc: 0.7835\n",
      "Epoch 183/200\n",
      "514/514 [==============================] - 0s - loss: 0.4741 - acc: 0.7490 - val_loss: 0.4803 - val_acc: 0.7913\n",
      "Epoch 184/200\n",
      "514/514 [==============================] - 0s - loss: 0.4610 - acc: 0.7724 - val_loss: 0.4753 - val_acc: 0.7835\n",
      "Epoch 185/200\n",
      "514/514 [==============================] - 0s - loss: 0.4649 - acc: 0.7802 - val_loss: 0.4753 - val_acc: 0.7992\n",
      "Epoch 186/200\n",
      "514/514 [==============================] - 0s - loss: 0.4632 - acc: 0.7763 - val_loss: 0.4900 - val_acc: 0.7913\n",
      "Epoch 187/200\n",
      "514/514 [==============================] - 0s - loss: 0.4708 - acc: 0.7588 - val_loss: 0.4857 - val_acc: 0.7992\n",
      "Epoch 188/200\n",
      "514/514 [==============================] - 0s - loss: 0.4613 - acc: 0.7626 - val_loss: 0.4693 - val_acc: 0.8031\n",
      "Epoch 189/200\n",
      "514/514 [==============================] - 0s - loss: 0.4676 - acc: 0.7743 - val_loss: 0.5052 - val_acc: 0.7835\n",
      "Epoch 190/200\n",
      "514/514 [==============================] - 0s - loss: 0.4639 - acc: 0.7704 - val_loss: 0.5138 - val_acc: 0.7835\n",
      "Epoch 191/200\n",
      "514/514 [==============================] - 0s - loss: 0.4830 - acc: 0.7646 - val_loss: 0.4739 - val_acc: 0.7874\n",
      "Epoch 192/200\n",
      "514/514 [==============================] - 0s - loss: 0.4618 - acc: 0.7743 - val_loss: 0.4832 - val_acc: 0.7953\n",
      "Epoch 193/200\n",
      "514/514 [==============================] - 0s - loss: 0.4597 - acc: 0.7704 - val_loss: 0.4696 - val_acc: 0.7913\n",
      "Epoch 194/200\n",
      "514/514 [==============================] - 0s - loss: 0.4678 - acc: 0.7704 - val_loss: 0.4733 - val_acc: 0.7874\n",
      "Epoch 195/200\n",
      "514/514 [==============================] - 0s - loss: 0.4727 - acc: 0.7704 - val_loss: 0.4694 - val_acc: 0.7835\n",
      "Epoch 196/200\n",
      "514/514 [==============================] - 0s - loss: 0.4550 - acc: 0.7840 - val_loss: 0.4767 - val_acc: 0.7913\n",
      "Epoch 197/200\n",
      "514/514 [==============================] - 0s - loss: 0.4662 - acc: 0.7763 - val_loss: 0.4819 - val_acc: 0.7874\n",
      "Epoch 198/200\n",
      "514/514 [==============================] - 0s - loss: 0.4557 - acc: 0.7646 - val_loss: 0.4772 - val_acc: 0.7795\n",
      "Epoch 199/200\n",
      "514/514 [==============================] - 0s - loss: 0.4626 - acc: 0.7821 - val_loss: 0.4783 - val_acc: 0.7992\n",
      "Epoch 200/200\n",
      "514/514 [==============================] - 0s - loss: 0.4685 - acc: 0.7646 - val_loss: 0.4834 - val_acc: 0.7795\n"
     ]
    }
   ],
   "source": [
    "# Fit the model\n",
    "history = model.fit(X, Y, validation_split=0.33, epochs=200, batch_size=10, verbose=1)"
   ]
  },
  {
   "cell_type": "code",
   "execution_count": 8,
   "metadata": {},
   "outputs": [
    {
     "name": "stdout",
     "output_type": "stream",
     "text": [
      "dict_keys(['val_loss', 'val_acc', 'loss', 'acc'])\n"
     ]
    }
   ],
   "source": [
    "# list all data in history\n",
    "print(history.history.keys())"
   ]
  },
  {
   "cell_type": "code",
   "execution_count": 9,
   "metadata": {},
   "outputs": [
    {
     "data": {
      "image/png": "[encoded data removed]",
      "text/plain": [
       "<matplotlib.figure.Figure at 0x7fac3345df98>"
      ]
     },
     "metadata": {},
     "output_type": "display_data"
    }
   ],
   "source": [
    "# summarize history for accuracy\n",
    "plt.figure(figsize=(12,8))\n",
    "plt.plot(history.history['acc'])\n",
    "plt.plot(history.history['val_acc'])\n",
    "plt.title('model accuracy')\n",
    "plt.ylabel('accuracy')\n",
    "plt.xlabel('epoch')\n",
    "plt.legend(['train', 'test'], loc='upper left')\n",
    "plt.show()"
   ]
  },
  {
   "cell_type": "code",
   "execution_count": 10,
   "metadata": {},
   "outputs": [
    {
     "data": {
      "image/png": "[encoded data removed]",
      "text/plain": [
       "<matplotlib.figure.Figure at 0x7fac3345d6d8>"
      ]
     },
     "metadata": {},
     "output_type": "display_data"
    }
   ],
   "source": [
    "# summarize history for loss\n",
    "plt.figure(figsize=(12,8))\n",
    "plt.plot(history.history['loss'])\n",
    "plt.plot(history.history['val_loss'])\n",
    "plt.title('model loss')\n",
    "plt.ylabel('loss')\n",
    "plt.xlabel('epoch')\n",
    "plt.legend(['train', 'test'], loc='upper left')\n",
    "plt.show()"
   ]
  },
  {
   "cell_type": "code",
   "execution_count": 11,
   "metadata": {},
   "outputs": [
    {
     "name": "stdout",
     "output_type": "stream",
     "text": [
      " 32/768 [>.............................] - ETA: 0s\n",
      "acc: 78.52%\n"
     ]
    }
   ],
   "source": [
    "# evaluate the model\n",
    "scores = model.evaluate(X, Y)\n",
    "print(\"\\n%s: %.2f%%\" % (model.metrics_names[1], scores[1]*100))"
   ]
  },
  {
   "cell_type": "code",
   "execution_count": 12,
   "metadata": {},
   "outputs": [
    {
     "name": "stdout",
     "output_type": "stream",
     "text": [
      "[[ 0.62993705]\n",
      " [ 0.09986657]\n",
      " [ 0.88687038]\n",
      " [ 0.09176008]\n",
      " [ 0.80451989]\n",
      " [ 0.24879239]\n",
      " [ 0.20977776]\n",
      " [ 0.71486115]\n",
      " [ 0.90949804]\n",
      " [ 0.2285661 ]]\n",
      "\n",
      "[1.0, 0.0, 1.0, 0.0, 1.0, 0.0, 0.0, 1.0, 1.0, 0.0]\n"
     ]
    }
   ],
   "source": [
    "# calculate predictions\n",
    "predictions = model.predict(X)\n",
    "print(predictions[0:10])\n",
    "\n",
    "print()\n",
    "\n",
    "# round predictions\n",
    "rounded = [round(x[0]) for x in predictions]\n",
    "print(rounded[0:10])"
   ]
  },
  {
   "cell_type": "markdown",
   "metadata": {},
   "source": [
    "### Develop a Small LSTM Recurrent Neural Network\n",
    "\n",
    "Based on this [post](https://machinelearningmastery.com/text-generation-lstm-recurrent-neural-networks-python-keras/)\n",
    "\n",
    "In this section we will develop a simple LSTM network to learn sequences of characters from Alice in Wonderland. In the next section we will use this model to generate new sequences of characters."
   ]
  },
  {
   "cell_type": "markdown",
   "metadata": {},
   "source": [
    "Next, we need to load the ASCII text for the book into memory and convert all of the characters to lowercase to reduce the vocabulary that the network must learn."
   ]
  },
  {
   "cell_type": "code",
   "execution_count": 20,
   "metadata": {},
   "outputs": [],
   "source": [
    "# load ascii text and covert to lowercase\n",
    "filename = \"../datasets/texts/Gutenberg/wonderland.txt\"\n",
    "raw_text = open(filename).read()\n",
    "raw_text = raw_text.lower()"
   ]
  },
  {
   "cell_type": "code",
   "execution_count": 21,
   "metadata": {},
   "outputs": [
    {
     "data": {
      "text/plain": [
       "144987"
      ]
     },
     "execution_count": 21,
     "metadata": {},
     "output_type": "execute_result"
    }
   ],
   "source": [
    "raw_text.find('happy summer days.\\n\\n')"
   ]
  },
  {
   "cell_type": "code",
   "execution_count": 22,
   "metadata": {},
   "outputs": [],
   "source": [
    "raw_text = raw_text[:145000]"
   ]
  },
  {
   "cell_type": "markdown",
   "metadata": {},
   "source": [
    "Cleaning the text:"
   ]
  },
  {
   "cell_type": "code",
   "execution_count": 23,
   "metadata": {},
   "outputs": [],
   "source": [
    "raw_text = raw_text[raw_text.find('\\n\\n\\n\\n'):]\n",
    "raw_text = re.sub(r'[\\n ]+',' ', raw_text)\n",
    "\n",
    "import string\n",
    "for char in string.punctuation:\n",
    "    raw_text = raw_text.replace(char, ' ')\n",
    "\n",
    "raw_text = raw_text.replace('  ', ' ')\n",
    "raw_text = raw_text.replace('  ', ' ')"
   ]
  },
  {
   "cell_type": "markdown",
   "metadata": {},
   "source": [
    "Now that the book is loaded, we must prepare the data for modeling by the neural network. We cannot model the characters directly, instead we must convert the characters to integers.\n",
    "\n",
    "We can do this easily by first creating a set of all of the distinct characters in the book, then creating a map of each character to a unique integer."
   ]
  },
  {
   "cell_type": "code",
   "execution_count": 24,
   "metadata": {},
   "outputs": [],
   "source": [
    "# create mapping of unique chars to integers\n",
    "chars = sorted(list(set(raw_text)))\n",
    "char_to_int = dict((c, i) for i, c in enumerate(chars))"
   ]
  },
  {
   "cell_type": "markdown",
   "metadata": {},
   "source": [
    "For example, the list of unique sorted lowercase characters in the book is as follows:"
   ]
  },
  {
   "cell_type": "code",
   "execution_count": 25,
   "metadata": {},
   "outputs": [
    {
     "data": {
      "text/plain": [
       "{' ': 0,\n",
       " '0': 1,\n",
       " '3': 2,\n",
       " 'a': 3,\n",
       " 'b': 4,\n",
       " 'c': 5,\n",
       " 'd': 6,\n",
       " 'e': 7,\n",
       " 'f': 8,\n",
       " 'g': 9,\n",
       " 'h': 10,\n",
       " 'i': 11,\n",
       " 'j': 12,\n",
       " 'k': 13,\n",
       " 'l': 14,\n",
       " 'm': 15,\n",
       " 'n': 16,\n",
       " 'o': 17,\n",
       " 'p': 18,\n",
       " 'q': 19,\n",
       " 'r': 20,\n",
       " 's': 21,\n",
       " 't': 22,\n",
       " 'u': 23,\n",
       " 'v': 24,\n",
       " 'w': 25,\n",
       " 'x': 26,\n",
       " 'y': 27,\n",
       " 'z': 28}"
      ]
     },
     "execution_count": 25,
     "metadata": {},
     "output_type": "execute_result"
    }
   ],
   "source": [
    "char_to_int"
   ]
  },
  {
   "cell_type": "markdown",
   "metadata": {},
   "source": [
    "You can see that there may be some characters that we could remove to further clean up the dataset that will reduce the vocabulary and may improve the modeling process.\n",
    "\n",
    "Now that the book has been loaded and the mapping prepared, we can summarize the dataset."
   ]
  },
  {
   "cell_type": "code",
   "execution_count": 26,
   "metadata": {},
   "outputs": [
    {
     "name": "stdout",
     "output_type": "stream",
     "text": [
      "Total Characters:  135172\n",
      "Total Vocab:  29\n"
     ]
    }
   ],
   "source": [
    "n_chars = len(raw_text)\n",
    "n_vocab = len(chars)\n",
    "print(\"Total Characters: \", n_chars)\n",
    "print(\"Total Vocab: \", n_vocab)"
   ]
  },
  {
   "cell_type": "markdown",
   "metadata": {},
   "source": [
    "We can see that the book has just under 150,000 characters and that when converted to lowercase that there are only 37 distinct characters in the vocabulary for the network to learn. Much more than the 26 in the alphabet.\n",
    "\n",
    "We now need to define the training data for the network. There is a lot of flexibility in how you choose to break up the text and expose it to the network during training.\n",
    "\n",
    "In this tutorial we will split the book text up into subsequences with a fixed length of 100 characters, an arbitrary length. We could just as easily split the data up by sentences and pad the shorter sequences and truncate the longer ones.\n",
    "\n",
    "Each training pattern of the network is comprised of 100 time steps of one character (X) followed by one character output (y). When creating these sequences, we slide this window along the whole book one character at a time, allowing each character a chance to be learned from the 100 characters that preceded it (except the first 100 characters of course).\n",
    "\n",
    "For example, if the sequence length is 5 (for simplicity) then the first two training patterns would be as follows:  \n",
    "\n",
    "CHAPT -> E\n",
    "HAPTE -> R\n",
    "\n",
    "As we split up the book into these sequences, we convert the characters to integers using our lookup table we prepared earlier.  "
   ]
  },
  {
   "cell_type": "code",
   "execution_count": 27,
   "metadata": {},
   "outputs": [
    {
     "name": "stdout",
     "output_type": "stream",
     "text": [
      "Total Patterns:  135072\n"
     ]
    }
   ],
   "source": [
    "# prepare the dataset of input to output pairs encoded as integers\n",
    "seq_length = 100\n",
    "dataX = []\n",
    "dataY = []\n",
    "for i in range(0, n_chars - seq_length, 1):\n",
    "    seq_in = raw_text[i:i + seq_length]\n",
    "    seq_out = raw_text[i + seq_length]\n",
    "    dataX.append([char_to_int[char] for char in seq_in])\n",
    "    dataY.append(char_to_int[seq_out])\n",
    "n_patterns = len(dataX)\n",
    "print(\"Total Patterns: \", n_patterns)"
   ]
  },
  {
   "cell_type": "markdown",
   "metadata": {},
   "source": [
    "Running the code to this point shows us that when we split up the dataset into training data for the network to learn that we have just under 150,000 training pattens. This makes sense as excluding the first 100 characters, we have one training pattern to predict each of the remaining characters.  "
   ]
  },
  {
   "cell_type": "markdown",
   "metadata": {},
   "source": [
    "Now that we have prepared our training data we need to transform it so that it is suitable for use with Keras.\n",
    "\n",
    "First we must transform the list of input sequences into the form [samples, time steps, features] expected by an LSTM network.\n",
    "\n",
    "Next we need to rescale the integers to the range 0-to-1 to make the patterns easier to learn by the LSTM network that uses the sigmoid activation function by default.\n",
    "\n",
    "Finally, we need to convert the output patterns (single characters converted to integers) into a one hot encoding. This is so that we can configure the network to predict the probability of each of the 47 different characters in the vocabulary (an easier representation) rather than trying to force it to predict precisely the next character. Each y value is converted into a sparse vector with a length of 47, full of zeros except with a 1 in the column for the letter (integer) that the pattern represents.\n",
    "\n",
    "We can implement these steps as below.  "
   ]
  },
  {
   "cell_type": "code",
   "execution_count": 28,
   "metadata": {},
   "outputs": [],
   "source": [
    "# reshape X to be [samples, time steps, features]\n",
    "X = numpy.reshape(dataX, (n_patterns, seq_length, 1))\n",
    "# normalize\n",
    "X = X / float(n_vocab)\n",
    "# one hot encode the output variable\n",
    "y = np_utils.to_categorical(dataY)"
   ]
  },
  {
   "cell_type": "markdown",
   "metadata": {},
   "source": [
    "We can now define our LSTM model. Here we define a single hidden LSTM layer with 256 memory units. The network uses dropout with a probability of 20. The output layer is a Dense layer using the softmax activation function to output a probability prediction for each of the 47 characters between 0 and 1.\n",
    "\n",
    "The problem is really a single character classification problem with 47 classes and as such is defined as optimizing the log loss (cross entropy), here using the ADAM optimization algorithm for speed."
   ]
  },
  {
   "cell_type": "code",
   "execution_count": 29,
   "metadata": {},
   "outputs": [],
   "source": [
    "# define the LSTM model\n",
    "model = Sequential()\n",
    "model.add(LSTM(256, input_shape=(X.shape[1], X.shape[2])))\n",
    "model.add(Dropout(0.2))\n",
    "model.add(Dense(y.shape[1], activation='softmax'))\n",
    "model.compile(loss='categorical_crossentropy', optimizer='adam')"
   ]
  },
  {
   "cell_type": "markdown",
   "metadata": {},
   "source": [
    "There is no test dataset. We are modeling the entire training dataset to learn the probability of each character in a sequence.\n",
    "\n",
    "We are not interested in the most accurate (classification accuracy) model of the training dataset. This would be a model that predicts each character in the training dataset perfectly. Instead we are interested in a generalization of the dataset that minimizes the chosen loss function. We are seeking a balance between generalization and overfitting but short of memorization.\n",
    "\n",
    "The network is slow to train (about 300 seconds per epoch on an Nvidia K520 GPU). Because of the slowness and because of our optimization requirements, we will use model checkpointing to record all of the network weights to file each time an improvement in loss is observed at the end of the epoch. We will use the best set of weights (lowest loss) to instantiate our generative model in the next section."
   ]
  },
  {
   "cell_type": "code",
   "execution_count": 28,
   "metadata": {},
   "outputs": [],
   "source": [
    "# define the checkpoint\n",
    "filepath=\"weights-improvement-{epoch:02d}-{loss:.4f}.hdf5\"\n",
    "checkpoint = ModelCheckpoint(filepath, monitor='loss', verbose=1, save_best_only=True, mode='min')\n",
    "callbacks_list = [checkpoint]"
   ]
  },
  {
   "cell_type": "markdown",
   "metadata": {},
   "source": [
    "We can now fit our model to the data. Here we use a modest number of 20/30 epochs and a large batch size of 32/64/128 patterns."
   ]
  },
  {
   "cell_type": "code",
   "execution_count": 38,
   "metadata": {
    "scrolled": true
   },
   "outputs": [
    {
     "name": "stdout",
     "output_type": "stream",
     "text": [
      "Epoch 1/30\n",
      "135040/135072 [============================>.] - ETA: 0s - loss: 2.6423Epoch 00000: loss improved from inf to 2.64227, saving model to weights-improvement-00-2.6423.hdf5\n",
      "135072/135072 [==============================] - 855s - loss: 2.6423   \n",
      "Epoch 2/30\n",
      "135040/135072 [============================>.] - ETA: 0s - loss: 2.4233Epoch 00001: loss improved from 2.64227 to 2.42322, saving model to weights-improvement-01-2.4232.hdf5\n",
      "135072/135072 [==============================] - 852s - loss: 2.4232   \n",
      "Epoch 3/30\n",
      "135040/135072 [============================>.] - ETA: 0s - loss: 2.2802Epoch 00002: loss improved from 2.42322 to 2.28023, saving model to weights-improvement-02-2.2802.hdf5\n",
      "135072/135072 [==============================] - 853s - loss: 2.2802   \n",
      "Epoch 4/30\n",
      "135040/135072 [============================>.] - ETA: 0s - loss: 2.1685Epoch 00003: loss improved from 2.28023 to 2.16837, saving model to weights-improvement-03-2.1684.hdf5\n",
      "135072/135072 [==============================] - 852s - loss: 2.1684   \n",
      "Epoch 5/30\n",
      "135040/135072 [============================>.] - ETA: 0s - loss: 2.0788Epoch 00004: loss improved from 2.16837 to 2.07879, saving model to weights-improvement-04-2.0788.hdf5\n",
      "135072/135072 [==============================] - 855s - loss: 2.0788   \n",
      "Epoch 6/30\n",
      "135040/135072 [============================>.] - ETA: 0s - loss: 2.0035- ETA: 3s Epoch 00005: loss improved from 2.07879 to 2.00349, saving model to weights-improvement-05-2.0035.hdf5\n",
      "135072/135072 [==============================] - 854s - loss: 2.0035   \n",
      "Epoch 7/30\n",
      "135040/135072 [============================>.] - ETA: 0s - loss: 1.9416Epoch 00006: loss improved from 2.00349 to 1.94157, saving model to weights-improvement-06-1.9416.hdf5\n",
      "135072/135072 [==============================] - 852s - loss: 1.9416   \n",
      "Epoch 8/30\n",
      "135040/135072 [============================>.] - ETA: 0s - loss: 1.8805Epoch 00007: loss improved from 1.94157 to 1.88045, saving model to weights-improvement-07-1.8805.hdf5\n",
      "135072/135072 [==============================] - 854s - loss: 1.8805   \n",
      "Epoch 9/30\n",
      "135040/135072 [============================>.] - ETA: 0s - loss: 1.8299Epoch 00008: loss improved from 1.88045 to 1.82987, saving model to weights-improvement-08-1.8299.hdf5\n",
      "135072/135072 [==============================] - 856s - loss: 1.8299   \n",
      "Epoch 10/30\n",
      "135040/135072 [============================>.] - ETA: 0s - loss: 1.7803- ETA: 1s - loss: - ETA: 0s - loss: 1.7804Epoch 00009: loss improved from 1.82987 to 1.78043, saving model to weights-improvement-09-1.7804.hdf5\n",
      "135072/135072 [==============================] - 854s - loss: 1.7804   \n",
      "Epoch 11/30\n",
      "135040/135072 [============================>.] - ETA: 0s - loss: 1.7369Epoch 00010: loss improved from 1.78043 to 1.73678, saving model to weights-improvement-10-1.7368.hdf5\n",
      "135072/135072 [==============================] - 854s - loss: 1.7368   \n",
      "Epoch 12/30\n",
      "135040/135072 [============================>.] - ETA: 0s - loss: 1.6991Epoch 00011: loss improved from 1.73678 to 1.69914, saving model to weights-improvement-11-1.6991.hdf5\n",
      "135072/135072 [==============================] - 854s - loss: 1.6991   \n",
      "Epoch 13/30\n",
      "135040/135072 [============================>.] - ETA: 0s - loss: 1.6669Epoch 00012: loss improved from 1.69914 to 1.66700, saving model to weights-improvement-12-1.6670.hdf5\n",
      "135072/135072 [==============================] - 854s - loss: 1.6670   \n",
      "Epoch 14/30\n",
      "135040/135072 [============================>.] - ETA: 0s - loss: 1.6350Epoch 00013: loss improved from 1.66700 to 1.63504, saving model to weights-improvement-13-1.6350.hdf5\n",
      "135072/135072 [==============================] - 853s - loss: 1.6350   \n",
      "Epoch 15/30\n",
      "135040/135072 [============================>.] - ETA: 0s - loss: 1.6078Epoch 00014: loss improved from 1.63504 to 1.60776, saving model to weights-improvement-14-1.6078.hdf5\n",
      "135072/135072 [==============================] - 851s - loss: 1.6078   \n",
      "Epoch 16/30\n",
      "135040/135072 [============================>.] - ETA: 0s - loss: 1.5835Epoch 00015: loss improved from 1.60776 to 1.58348, saving model to weights-improvement-15-1.5835.hdf5\n",
      "135072/135072 [==============================] - 850s - loss: 1.5835   \n",
      "Epoch 17/30\n",
      "135040/135072 [============================>.] - ETA: 0s - loss: 1.5628- ETA: 0s - loss: 1.5Epoch 00016: loss improved from 1.58348 to 1.56286, saving model to weights-improvement-16-1.5629.hdf5\n",
      "135072/135072 [==============================] - 851s - loss: 1.5629   \n",
      "Epoch 18/30\n",
      "135040/135072 [============================>.] - ETA: 0s - loss: 1.5394Epoch 00017: loss improved from 1.56286 to 1.53939, saving model to weights-improvement-17-1.5394.hdf5\n",
      "135072/135072 [==============================] - 852s - loss: 1.5394   \n",
      "Epoch 19/30\n",
      "135040/135072 [============================>.] - ETA: 0s - loss: 1.5218Epoch 00018: loss improved from 1.53939 to 1.52190, saving model to weights-improvement-18-1.5219.hdf5\n",
      "135072/135072 [==============================] - 854s - loss: 1.5219   \n",
      "Epoch 20/30\n",
      "135040/135072 [============================>.] - ETA: 0s - loss: 1.5044Epoch 00019: loss improved from 1.52190 to 1.50446, saving model to weights-improvement-19-1.5045.hdf5\n",
      "135072/135072 [==============================] - 851s - loss: 1.5045   \n",
      "Epoch 21/30\n",
      "135040/135072 [============================>.] - ETA: 0s - loss: 1.4873Epoch 00020: loss improved from 1.50446 to 1.48737, saving model to weights-improvement-20-1.4874.hdf5\n",
      "135072/135072 [==============================] - 843s - loss: 1.4874   \n",
      "Epoch 22/30\n",
      "135040/135072 [============================>.] - ETA: 0s - loss: 1.4732Epoch 00021: loss improved from 1.48737 to 1.47322, saving model to weights-improvement-21-1.4732.hdf5\n",
      "135072/135072 [==============================] - 852s - loss: 1.4732   \n",
      "Epoch 23/30\n",
      "135040/135072 [============================>.] - ETA: 0s - loss: 1.4598Epoch 00022: loss improved from 1.47322 to 1.45971, saving model to weights-improvement-22-1.4597.hdf5\n",
      "135072/135072 [==============================] - 846s - loss: 1.4597   \n",
      "Epoch 24/30\n",
      "135040/135072 [============================>.] - ETA: 0s - loss: 1.4468-Epoch 00023: loss improved from 1.45971 to 1.44675, saving model to weights-improvement-23-1.4467.hdf5\n",
      "135072/135072 [==============================] - 853s - loss: 1.4467   \n",
      "Epoch 25/30\n",
      "135040/135072 [============================>.] - ETA: 0s - loss: 1.4329Epoch 00024: loss improved from 1.44675 to 1.43295, saving model to weights-improvement-24-1.4330.hdf5\n",
      "135072/135072 [==============================] - 852s - loss: 1.4330   \n",
      "Epoch 26/30\n",
      "135040/135072 [============================>.] - ETA: 0s - loss: 1.4236- ETA: 1s - loss:  - ETA: 0s - loss: 1.423Epoch 00025: loss improved from 1.43295 to 1.42363, saving model to weights-improvement-25-1.4236.hdf5\n",
      "135072/135072 [==============================] - 850s - loss: 1.4236   \n",
      "Epoch 27/30\n",
      "135040/135072 [============================>.] - ETA: 0s - loss: 1.4094Epoch 00026: loss improved from 1.42363 to 1.40945, saving model to weights-improvement-26-1.4094.hdf5\n",
      "135072/135072 [==============================] - 848s - loss: 1.4094   \n",
      "Epoch 28/30\n",
      "135040/135072 [============================>.] - ETA: 0s - loss: 1.3982Epoch 00027: loss improved from 1.40945 to 1.39834, saving model to weights-improvement-27-1.3983.hdf5\n",
      "135072/135072 [==============================] - 847s - loss: 1.3983   \n",
      "Epoch 29/30\n",
      "135040/135072 [============================>.] - ETA: 0s - loss: 1.3863Epoch 00028: loss improved from 1.39834 to 1.38621, saving model to weights-improvement-28-1.3862.hdf5\n",
      "135072/135072 [==============================] - 843s - loss: 1.3862   \n",
      "Epoch 30/30\n",
      "135040/135072 [============================>.] - ETA: 0s - loss: 1.3750Epoch 00029: loss improved from 1.38621 to 1.37494, saving model to weights-improvement-29-1.3749.hdf5\n",
      "135072/135072 [==============================] - 846s - loss: 1.3749   \n",
      "25557.115308761597\n"
     ]
    }
   ],
   "source": [
    "t0 = time.time()\n",
    "\n",
    "history = model.fit(X, y, epochs=30, batch_size=32, callbacks=callbacks_list, verbose=1)\n",
    "\n",
    "print(time.time() - t0)"
   ]
  },
  {
   "cell_type": "code",
   "execution_count": 39,
   "metadata": {},
   "outputs": [
    {
     "name": "stdout",
     "output_type": "stream",
     "text": [
      "dict_keys(['loss'])\n"
     ]
    }
   ],
   "source": [
    "# list all data in history\n",
    "print(history.history.keys())"
   ]
  },
  {
   "cell_type": "code",
   "execution_count": 40,
   "metadata": {},
   "outputs": [
    {
     "data": {
      "image/png": "[encoded data removed]",
      "text/plain": [
       "<matplotlib.figure.Figure at 0x7f5bf05e7ac8>"
      ]
     },
     "metadata": {},
     "output_type": "display_data"
    }
   ],
   "source": [
    "# summarize history for loss\n",
    "plt.figure(figsize=(12,8))\n",
    "plt.plot(history.history['loss'])\n",
    "plt.title('model loss')\n",
    "plt.ylabel('loss')\n",
    "plt.xlabel('epoch')\n",
    "plt.legend(['train', 'test'], loc='upper left')\n",
    "plt.show()"
   ]
  },
  {
   "cell_type": "markdown",
   "metadata": {},
   "source": [
    "The network loss decreased almost every epoch and I expect the network could benefit from training for many more epochs.\n",
    "\n",
    "In the next section we will look at using this model to generate new text sequences."
   ]
  },
  {
   "cell_type": "markdown",
   "metadata": {},
   "source": [
    "You will see different results because of the stochastic nature of the model, and because it is hard to fix the random seed for LSTM models to get 100% reproducible results. This is not a concern for this generative model.\n",
    "\n",
    "After running the example, you should have a number of weight checkpoint files in the local directory.\n",
    "\n",
    "You can delete them all except the one with the smallest loss value."
   ]
  },
  {
   "cell_type": "code",
   "execution_count": 13,
   "metadata": {},
   "outputs": [
    {
     "name": "stdout",
     "output_type": "stream",
     "text": [
      "weights-improvement-29-1.3749.hdf5  weights-improvement-35-1.1737-bigger.hdf5\r\n"
     ]
    }
   ],
   "source": [
    "!ls *.hdf5"
   ]
  },
  {
   "cell_type": "code",
   "execution_count": 30,
   "metadata": {},
   "outputs": [],
   "source": [
    "filename = \"weights-improvement-29-1.3749.hdf5\""
   ]
  },
  {
   "cell_type": "markdown",
   "metadata": {},
   "source": [
    "### Generating Text with an LSTM Network\n",
    "\n",
    "Generating text using the trained LSTM network is relatively straightforward.\n",
    "\n",
    "Firstly, we load the data and define the network in exactly the same way, except the network weights are loaded from a checkpoint file and the network does not need to be trained."
   ]
  },
  {
   "cell_type": "code",
   "execution_count": 31,
   "metadata": {},
   "outputs": [],
   "source": [
    "# load the network weights\n",
    "model.load_weights(filename)\n",
    "model.compile(loss='categorical_crossentropy', optimizer='adam')"
   ]
  },
  {
   "cell_type": "markdown",
   "metadata": {},
   "source": [
    "Also, when preparing the mapping of unique characters to integers, we must also create a reverse mapping that we can use to convert the integers back to characters so that we can understand the predictions."
   ]
  },
  {
   "cell_type": "code",
   "execution_count": 32,
   "metadata": {},
   "outputs": [],
   "source": [
    "int_to_char = dict((i, c) for i, c in enumerate(chars))"
   ]
  },
  {
   "cell_type": "markdown",
   "metadata": {},
   "source": [
    "Finally, we need to actually make predictions.\n",
    "\n",
    "The simplest way to use the Keras LSTM model to make predictions is to first start off with a seed sequence as input, generate the next character then update the seed sequence to add the generated character on the end and trim off the first character. This process is repeated for as long as we want to predict new characters (e.g. a sequence of 1,000 characters in length).\n",
    "\n",
    "We can pick a random input pattern as our seed sequence, then print generated characters as we generate them."
   ]
  },
  {
   "cell_type": "markdown",
   "metadata": {},
   "source": [
    "Running this example first outputs the selected random seed, then each character as it is generated.\n",
    "\n",
    "For example, below are the results from one run of this text generator. The random seed was:"
   ]
  },
  {
   "cell_type": "code",
   "execution_count": 33,
   "metadata": {},
   "outputs": [
    {
     "name": "stdout",
     "output_type": "stream",
     "text": [
      "Seed:\n",
      "\"  the fall never come to an end i wonder how many miles i ve fallen by this time she said aloud i mus \"\n",
      "t be gerting so she seies of the porr little thing sas how vhen the roeez ald the morte was she same as the sei gouse  no ohe was so the teite whrh ald the poeenrse ifd doon her hnot and the poeent temesbened hnro the door and the party was soie and the whrtes ald the dorrtuse who had never been io a coeaer of toike so bo sh the said this she woode of the dourt while she had never done tutn and shi said to herself the dorrouse shought alice i dar t be anle they re boeedt that she was not about a cat in a merure triek you dan t bente wou mow the rame thing alice said to the jury and the poeenr oe the tood she sei woud to alice hoowen the dante wou dou t luo thi said the datee it to the said this she was not about a far and taid alice i d neter tore th t she said this she dourd neter shen alice was not aaout the doom and the door and thin she house dnwn to the gadl i dan t be aiser and said the king the rueen was she same siie whth the drrmouse she said this she was soieriig to thi kett \n",
      "Done.\n"
     ]
    }
   ],
   "source": [
    "#pick a random seed\n",
    "start = numpy.random.randint(0, len(dataX)-1)\n",
    "pattern = dataX[start]\n",
    "print(\"Seed:\")\n",
    "print(\"\\\"\", ''.join([int_to_char[value] for value in pattern]), \"\\\"\")\n",
    "# generate characters\n",
    "for i in range(1000):\n",
    "    x = numpy.reshape(pattern, (1, len(pattern), 1))\n",
    "    x = x / float(n_vocab)\n",
    "    prediction = model.predict(x, verbose=0)\n",
    "    index = numpy.argmax(prediction)\n",
    "    result = int_to_char[index]\n",
    "    seq_in = [int_to_char[value] for value in pattern]\n",
    "    sys.stdout.write(result)\n",
    "    pattern.append(index)\n",
    "    pattern = pattern[1:len(pattern)]\n",
    "print(\"\\nDone.\")"
   ]
  },
  {
   "cell_type": "markdown",
   "metadata": {},
   "source": [
    "We can note some observations about the generated text.  \n",
    "+ It generally conforms to the line format observed in the original text of less than 80 characters before a new line.\n",
    "+ The characters are separated into word-like groups and most groups are actual English words (e.g. “the”, “little” and “was”), but many do not (e.g. “lott”, “tiie” and “taede”).\n",
    "+ Some of the words in sequence make sense(e.g. “and the white rabbit“), but many do not (e.g. “wese tilel“).\n",
    "\n",
    "The fact that this character based model of the book produces output like this is very impressive. It gives you a sense of the learning capabilities of LSTM networks.\n",
    "\n",
    "The results are not perfect. In the next section we look at improving the quality of results by developing a much larger LSTM network."
   ]
  },
  {
   "cell_type": "markdown",
   "metadata": {},
   "source": [
    "### Larger LSTM Recurrent Neural Network\n",
    "\n",
    "We got results, but not excellent results in the previous section. Now, we can try to improve the quality of the generated text by creating a much larger network.\n",
    "\n",
    "We will keep the number of memory units the same at 256, but add a second layer."
   ]
  },
  {
   "cell_type": "code",
   "execution_count": 34,
   "metadata": {},
   "outputs": [],
   "source": [
    "model = Sequential()\n",
    "model.add(LSTM(256, input_shape=(X.shape[1], X.shape[2]), return_sequences=True))\n",
    "model.add(Dropout(0.2))\n",
    "model.add(LSTM(256))\n",
    "model.add(Dropout(0.2))\n",
    "model.add(Dense(y.shape[1], activation='softmax'))\n",
    "model.compile(loss='categorical_crossentropy', optimizer='adam')"
   ]
  },
  {
   "cell_type": "markdown",
   "metadata": {},
   "source": [
    "We will also change the filename of the checkpointed weights so that we can tell the difference between weights for this network and the previous (by appending the word “bigger” in the filename)."
   ]
  },
  {
   "cell_type": "code",
   "execution_count": 35,
   "metadata": {},
   "outputs": [],
   "source": [
    "filepath=\"weights-improvement-{epoch:02d}-{loss:.4f}-bigger.hdf5\""
   ]
  },
  {
   "cell_type": "markdown",
   "metadata": {},
   "source": [
    "Finally, we will increase the number of training epochs from 20 to 50 and use batch size 32/64 to give the network more of an opportunity to be updated and learn."
   ]
  },
  {
   "cell_type": "code",
   "execution_count": 36,
   "metadata": {},
   "outputs": [
    {
     "name": "stdout",
     "output_type": "stream",
     "text": [
      "Epoch 1/50\n",
      "135040/135072 [============================>.] - ETA: 0s - loss: 2.4156Epoch 00000: loss improved from inf to 2.41564, saving model to weights-improvement-00-2.4156-bigger.hdf5\n",
      "135072/135072 [==============================] - 1815s - loss: 2.4156  \n",
      "Epoch 2/50\n",
      "135040/135072 [============================>.] - ETA: 0s - loss: 1.9942Epoch 00001: loss improved from 2.41564 to 1.99417, saving model to weights-improvement-01-1.9942-bigger.hdf5\n",
      "135072/135072 [==============================] - 1814s - loss: 1.9942  \n",
      "Epoch 3/50\n",
      "135040/135072 [============================>.] - ETA: 0s - loss: 1.8127Epoch 00002: loss improved from 1.99417 to 1.81272, saving model to weights-improvement-02-1.8127-bigger.hdf5\n",
      "135072/135072 [==============================] - 1810s - loss: 1.8127  \n",
      "Epoch 4/50\n",
      "135040/135072 [============================>.] - ETA: 0s - loss: 1.7068Epoch 00003: loss improved from 1.81272 to 1.70689, saving model to weights-improvement-03-1.7069-bigger.hdf5\n",
      "135072/135072 [==============================] - 1819s - loss: 1.7069  \n",
      "Epoch 5/50\n",
      "135040/135072 [============================>.] - ETA: 0s - loss: 1.6282Epoch 00004: loss improved from 1.70689 to 1.62827, saving model to weights-improvement-04-1.6283-bigger.hdf5\n",
      "135072/135072 [==============================] - 1812s - loss: 1.6283  \n",
      "Epoch 6/50\n",
      "135040/135072 [============================>.] - ETA: 0s - loss: 1.5652Epoch 00005: loss improved from 1.62827 to 1.56539, saving model to weights-improvement-05-1.5654-bigger.hdf5\n",
      "135072/135072 [==============================] - 1814s - loss: 1.5654  \n",
      "Epoch 7/50\n",
      "135040/135072 [============================>.] - ETA: 0s - loss: 1.5163Epoch 00006: loss improved from 1.56539 to 1.51629, saving model to weights-improvement-06-1.5163-bigger.hdf5\n",
      "135072/135072 [==============================] - 1814s - loss: 1.5163  \n",
      "Epoch 8/50\n",
      "135040/135072 [============================>.] - ETA: 0s - loss: 1.4729Epoch 00007: loss improved from 1.51629 to 1.47285, saving model to weights-improvement-07-1.4728-bigger.hdf5\n",
      "135072/135072 [==============================] - 1813s - loss: 1.4728  \n",
      "Epoch 9/50\n",
      "135040/135072 [============================>.] - ETA: 0s - loss: 1.4365Epoch 00008: loss improved from 1.47285 to 1.43644, saving model to weights-improvement-08-1.4364-bigger.hdf5\n",
      "135072/135072 [==============================] - 1805s - loss: 1.4364  \n",
      "Epoch 10/50\n",
      "135040/135072 [============================>.] - ETA: 0s - loss: 1.4036Epoch 00009: loss improved from 1.43644 to 1.40361, saving model to weights-improvement-09-1.4036-bigger.hdf5\n",
      "135072/135072 [==============================] - 1815s - loss: 1.4036  \n",
      "Epoch 11/50\n",
      "135040/135072 [============================>.] - ETA: 0s - loss: 1.3768Epoch 00010: loss improved from 1.40361 to 1.37686, saving model to weights-improvement-10-1.3769-bigger.hdf5\n",
      "135072/135072 [==============================] - 1815s - loss: 1.3769  \n",
      "Epoch 12/50\n",
      "135040/135072 [============================>.] - ETA: 0s - loss: 1.3519Epoch 00011: loss improved from 1.37686 to 1.35190, saving model to weights-improvement-11-1.3519-bigger.hdf5\n",
      "135072/135072 [==============================] - 1815s - loss: 1.3519  \n",
      "Epoch 13/50\n",
      "135040/135072 [============================>.] - ETA: 0s - loss: 1.3304Epoch 00012: loss improved from 1.35190 to 1.33037, saving model to weights-improvement-12-1.3304-bigger.hdf5\n",
      "135072/135072 [==============================] - 1813s - loss: 1.3304  \n",
      "Epoch 14/50\n",
      "135040/135072 [============================>.] - ETA: 0s - loss: 1.3098Epoch 00013: loss improved from 1.33037 to 1.30980, saving model to weights-improvement-13-1.3098-bigger.hdf5\n",
      "135072/135072 [==============================] - 1814s - loss: 1.3098  \n",
      "Epoch 15/50\n",
      "135040/135072 [============================>.] - ETA: 0s - loss: 1.2907Epoch 00014: loss improved from 1.30980 to 1.29064, saving model to weights-improvement-14-1.2906-bigger.hdf5\n",
      "135072/135072 [==============================] - 1814s - loss: 1.2906  \n",
      "Epoch 16/50\n",
      "135040/135072 [============================>.] - ETA: 0s - loss: 1.2786Epoch 00015: loss improved from 1.29064 to 1.27860, saving model to weights-improvement-15-1.2786-bigger.hdf5\n",
      "135072/135072 [==============================] - 1813s - loss: 1.2786  \n",
      "Epoch 17/50\n",
      "135040/135072 [============================>.] - ETA: 0s - loss: 1.2618Epoch 00016: loss improved from 1.27860 to 1.26172, saving model to weights-improvement-16-1.2617-bigger.hdf5\n",
      "135072/135072 [==============================] - 1809s - loss: 1.2617  \n",
      "Epoch 18/50\n",
      "135040/135072 [============================>.] - ETA: 0s - loss: 1.2537Epoch 00017: loss improved from 1.26172 to 1.25379, saving model to weights-improvement-17-1.2538-bigger.hdf5\n",
      "135072/135072 [==============================] - 1811s - loss: 1.2538  \n",
      "Epoch 19/50\n",
      "135040/135072 [============================>.] - ETA: 0s - loss: 1.2408Epoch 00018: loss improved from 1.25379 to 1.24090, saving model to weights-improvement-18-1.2409-bigger.hdf5\n",
      "135072/135072 [==============================] - 1806s - loss: 1.2409  \n",
      "Epoch 20/50\n",
      "135040/135072 [============================>.] - ETA: 0s - loss: 1.2330Epoch 00019: loss improved from 1.24090 to 1.23305, saving model to weights-improvement-19-1.2331-bigger.hdf5\n",
      "135072/135072 [==============================] - 1814s - loss: 1.2331  \n",
      "Epoch 21/50\n",
      "135040/135072 [============================>.] - ETA: 0s - loss: 1.2253Epoch 00020: loss improved from 1.23305 to 1.22531, saving model to weights-improvement-20-1.2253-bigger.hdf5\n",
      "135072/135072 [==============================] - 1812s - loss: 1.2253  \n",
      "Epoch 22/50\n",
      "135040/135072 [============================>.] - ETA: 0s - loss: 1.2168Epoch 00021: loss improved from 1.22531 to 1.21679, saving model to weights-improvement-21-1.2168-bigger.hdf5\n",
      "135072/135072 [==============================] - 1809s - loss: 1.2168  \n",
      "Epoch 23/50\n",
      "135040/135072 [============================>.] - ETA: 0s - loss: 1.2085Epoch 00022: loss improved from 1.21679 to 1.20844, saving model to weights-improvement-22-1.2084-bigger.hdf5\n",
      "135072/135072 [==============================] - 1810s - loss: 1.2084  \n",
      "Epoch 24/50\n",
      "135040/135072 [============================>.] - ETA: 0s - loss: 1.2032Epoch 00023: loss improved from 1.20844 to 1.20323, saving model to weights-improvement-23-1.2032-bigger.hdf5\n",
      "135072/135072 [==============================] - 1815s - loss: 1.2032  \n",
      "Epoch 25/50\n",
      "135040/135072 [============================>.] - ETA: 0s - loss: 1.2002Epoch 00024: loss improved from 1.20323 to 1.20023, saving model to weights-improvement-24-1.2002-bigger.hdf5\n",
      "135072/135072 [==============================] - 1813s - loss: 1.2002  \n",
      "Epoch 26/50\n",
      "135040/135072 [============================>.] - ETA: 0s - loss: 1.1954Epoch 00025: loss improved from 1.20023 to 1.19546, saving model to weights-improvement-25-1.1955-bigger.hdf5\n",
      "135072/135072 [==============================] - 1814s - loss: 1.1955  \n",
      "Epoch 27/50\n",
      "135040/135072 [============================>.] - ETA: 0s - loss: 1.1926Epoch 00026: loss improved from 1.19546 to 1.19257, saving model to weights-improvement-26-1.1926-bigger.hdf5\n",
      "135072/135072 [==============================] - 1810s - loss: 1.1926  \n",
      "Epoch 28/50\n",
      "135040/135072 [============================>.] - ETA: 0s - loss: 1.1870Epoch 00027: loss improved from 1.19257 to 1.18708, saving model to weights-improvement-27-1.1871-bigger.hdf5\n",
      "135072/135072 [==============================] - 1811s - loss: 1.1871  \n",
      "Epoch 29/50\n",
      "135040/135072 [============================>.] - ETA: 0s - loss: 1.1853Epoch 00028: loss improved from 1.18708 to 1.18526, saving model to weights-improvement-28-1.1853-bigger.hdf5\n",
      "135072/135072 [==============================] - 1811s - loss: 1.1853  \n",
      "Epoch 30/50\n",
      "135040/135072 [============================>.] - ETA: 0s - loss: 1.1847Epoch 00029: loss improved from 1.18526 to 1.18473, saving model to weights-improvement-29-1.1847-bigger.hdf5\n",
      "135072/135072 [==============================] - 1811s - loss: 1.1847  \n",
      "Epoch 31/50\n",
      "135040/135072 [============================>.] - ETA: 0s - loss: 1.1799Epoch 00030: loss improved from 1.18473 to 1.17992, saving model to weights-improvement-30-1.1799-bigger.hdf5\n",
      "135072/135072 [==============================] - 1811s - loss: 1.1799  \n",
      "Epoch 32/50\n",
      "135040/135072 [============================>.] - ETA: 0s - loss: 1.1800Epoch 00031: loss did not improve\n",
      "135072/135072 [==============================] - 1807s - loss: 1.1801  \n",
      "Epoch 33/50\n",
      "135040/135072 [============================>.] - ETA: 0s - loss: 1.1823Epoch 00032: loss did not improve\n",
      "135072/135072 [==============================] - 1810s - loss: 1.1823  \n",
      "Epoch 34/50\n",
      "135040/135072 [============================>.] - ETA: 0s - loss: 1.1783Epoch 00033: loss improved from 1.17992 to 1.17840, saving model to weights-improvement-33-1.1784-bigger.hdf5\n",
      "135072/135072 [==============================] - 1809s - loss: 1.1784  \n",
      "Epoch 35/50\n",
      "135040/135072 [============================>.] - ETA: 0s - loss: 1.1787Epoch 00034: loss did not improve\n",
      "135072/135072 [==============================] - 1808s - loss: 1.1787  \n",
      "Epoch 36/50\n",
      "135040/135072 [============================>.] - ETA: 0s - loss: 1.1737Epoch 00035: loss improved from 1.17840 to 1.17373, saving model to weights-improvement-35-1.1737-bigger.hdf5\n",
      "135072/135072 [==============================] - 1800s - loss: 1.1737  \n",
      "Epoch 37/50\n",
      "135040/135072 [============================>.] - ETA: 0s - loss: 1.1809Epoch 00036: loss did not improve\n",
      "135072/135072 [==============================] - 1811s - loss: 1.1809  \n",
      "Epoch 38/50\n",
      "135040/135072 [============================>.] - ETA: 0s - loss: 1.1809Epoch 00037: loss did not improve\n",
      "135072/135072 [==============================] - 1812s - loss: 1.1809  \n",
      "Epoch 39/50\n",
      "135040/135072 [============================>.] - ETA: 0s - loss: 1.1813Epoch 00038: loss did not improve\n",
      "135072/135072 [==============================] - 1807s - loss: 1.1814  \n",
      "Epoch 40/50\n",
      "135040/135072 [============================>.] - ETA: 0s - loss: 1.1879Epoch 00039: loss did not improve\n",
      "135072/135072 [==============================] - 1809s - loss: 1.1877  \n",
      "Epoch 41/50\n",
      "135040/135072 [============================>.] - ETA: 0s - loss: 1.2735Epoch 00040: loss did not improve\n",
      "135072/135072 [==============================] - 1811s - loss: 1.2742  \n",
      "Epoch 42/50\n",
      "135040/135072 [============================>.] - ETA: 0s - loss: 2.7988Epoch 00041: loss did not improve\n",
      "135072/135072 [==============================] - 1809s - loss: 2.7987  \n",
      "Epoch 43/50\n",
      "135040/135072 [============================>.] - ETA: 0s - loss: 2.5255Epoch 00042: loss did not improve\n",
      "135072/135072 [==============================] - 1809s - loss: 2.5254  \n",
      "Epoch 44/50\n",
      "135040/135072 [============================>.] - ETA: 0s - loss: 2.5215Epoch 00043: loss did not improve\n",
      "135072/135072 [==============================] - 1808s - loss: 2.5216  \n",
      "Epoch 45/50\n",
      "135040/135072 [============================>.] - ETA: 0s - loss: 2.5716Epoch 00044: loss did not improve\n",
      "135072/135072 [==============================] - 1812s - loss: 2.5716  \n",
      "Epoch 46/50\n",
      "135040/135072 [============================>.] - ETA: 0s - loss: 2.4069Epoch 00045: loss did not improve\n",
      "135072/135072 [==============================] - 1810s - loss: 2.4068  \n",
      "Epoch 47/50\n",
      "135040/135072 [============================>.] - ETA: 0s - loss: 2.2424Epoch 00046: loss did not improve\n",
      "135072/135072 [==============================] - 1816s - loss: 2.2424  \n",
      "Epoch 48/50\n",
      "135040/135072 [============================>.] - ETA: 0s - loss: 2.1019Epoch 00047: loss did not improve\n",
      "135072/135072 [==============================] - 1812s - loss: 2.1019  \n",
      "Epoch 49/50\n",
      "135040/135072 [============================>.] - ETA: 0s - loss: 2.0043Epoch 00048: loss did not improve\n",
      "135072/135072 [==============================] - 1814s - loss: 2.0043  \n",
      "Epoch 50/50\n",
      "135040/135072 [============================>.] - ETA: 0s - loss: 1.9198Epoch 00049: loss did not improve\n",
      "135072/135072 [==============================] - 1810s - loss: 1.9198  \n",
      "90593.81055402756\n"
     ]
    }
   ],
   "source": [
    "t0 = time.time()\n",
    "\n",
    "checkpoint = ModelCheckpoint(filepath, monitor='loss', verbose=1, save_best_only=True, mode='min')\n",
    "callbacks_list = [checkpoint]\n",
    "# fit the model\n",
    "history = model.fit(X, y, epochs=50, batch_size=32, callbacks=callbacks_list)\n",
    "\n",
    "print(time.time() - t0)"
   ]
  },
  {
   "cell_type": "code",
   "execution_count": 37,
   "metadata": {},
   "outputs": [
    {
     "name": "stdout",
     "output_type": "stream",
     "text": [
      "dict_keys(['loss'])\n"
     ]
    }
   ],
   "source": [
    "# list all data in history\n",
    "print(history.history.keys())"
   ]
  },
  {
   "cell_type": "code",
   "execution_count": 38,
   "metadata": {},
   "outputs": [
    {
     "data": {
      "image/png": "[encoded data removed]",
      "text/plain": [
       "<matplotlib.figure.Figure at 0x7fb0c5074be0>"
      ]
     },
     "metadata": {},
     "output_type": "display_data"
    }
   ],
   "source": [
    "# summarize history for loss\n",
    "plt.figure(figsize=(12,8))\n",
    "plt.plot(history.history['loss'])\n",
    "plt.title('model loss')\n",
    "plt.ylabel('loss')\n",
    "plt.xlabel('epoch')\n",
    "plt.legend(['train', 'test'], loc='upper left')\n",
    "plt.show()"
   ]
  },
  {
   "cell_type": "code",
   "execution_count": 15,
   "metadata": {},
   "outputs": [
    {
     "name": "stdout",
     "output_type": "stream",
     "text": [
      "weights-improvement-29-1.3749.hdf5  weights-improvement-35-1.1737-bigger.hdf5\r\n"
     ]
    }
   ],
   "source": [
    "!ls *.hdf5"
   ]
  },
  {
   "cell_type": "code",
   "execution_count": 36,
   "metadata": {},
   "outputs": [],
   "source": [
    "filename = \"weights-improvement-35-1.1737-bigger.hdf5\""
   ]
  },
  {
   "cell_type": "code",
   "execution_count": 37,
   "metadata": {},
   "outputs": [],
   "source": [
    "# load the network weights\n",
    "model.load_weights(filename)\n",
    "model.compile(loss='categorical_crossentropy', optimizer='adam')"
   ]
  },
  {
   "cell_type": "code",
   "execution_count": 38,
   "metadata": {},
   "outputs": [],
   "source": [
    "int_to_char = dict((i, c) for i, c in enumerate(chars))"
   ]
  },
  {
   "cell_type": "markdown",
   "metadata": {},
   "source": [
    "One example of running this text generation script produces the output below.\n",
    "\n",
    "The randomly chosen seed text was:"
   ]
  },
  {
   "cell_type": "code",
   "execution_count": 40,
   "metadata": {},
   "outputs": [
    {
     "name": "stdout",
     "output_type": "stream",
     "text": [
      "Seed:\n",
      "\"  breath and said that s very curious it s all about as curious as it can be said the gryphon it all  \"\n",
      "the things he dound the mock turtle and the mouse we seady to the thing would be a little shing said the king the door said the king the dormouse we mearn me think i won t said the king the dormouse we mearn me think i won t said the king the dormouse we mearn me think i won t said the king the dormouse we mearn me think i won t said the king the dormouse we mearn me think i won t said the king the dormouse we mearn me think i won t said the king the dormouse we mearn me think i won t said the king the dormouse we mearn me think i won t said the king the dormouse we mearn me think i won t said the king the dormouse we mearn me think i won t said the king the dormouse we mearn me think i won t said the king the dormouse we mearn me think i won t said the king the dormouse we mearn me think i won t said the king the dormouse we mearn me think i won t said the king the dormouse we mearn me think i won t said the king the dormouse we mearn me think i won t said the king the dormouse we mea\n",
      "Done.\n"
     ]
    }
   ],
   "source": [
    "#pick a random seed\n",
    "start = numpy.random.randint(0, len(dataX)-1)\n",
    "pattern = dataX[start]\n",
    "print(\"Seed:\")\n",
    "print(\"\\\"\", ''.join([int_to_char[value] for value in pattern]), \"\\\"\")\n",
    "# generate characters\n",
    "for i in range(1000):\n",
    "    x = numpy.reshape(pattern, (1, len(pattern), 1))\n",
    "    x = x / float(n_vocab)\n",
    "    prediction = model.predict(x, verbose=0)\n",
    "    index = numpy.argmax(prediction)\n",
    "    result = int_to_char[index]\n",
    "    seq_in = [int_to_char[value] for value in pattern]\n",
    "    sys.stdout.write(result)\n",
    "    pattern.append(index)\n",
    "    pattern = pattern[1:len(pattern)]\n",
    "print(\"\\nDone.\")"
   ]
  },
  {
   "cell_type": "markdown",
   "metadata": {},
   "source": [
    "We can see that generally there are fewer spelling mistakes and the text looks more realistic, but is still quite nonsensical.\n",
    "\n",
    "For example the same phrases get repeated again and again. Quotes are opened but not closed.\n",
    "\n",
    "These are better results but there is still a lot of room for improvement."
   ]
  },
  {
   "cell_type": "markdown",
   "metadata": {},
   "source": [
    "### 10 Extension Ideas to Improve the Model\n",
    "\n",
    "Below are 10 ideas that may further improve the model that you could experiment with are:\n",
    "\n",
    "  + Predict fewer than 1,000 characters as output for a given seed.\n",
    "  + Remove all punctuation from the source text, and therefore from the models’ vocabulary.\n",
    "  + Try a one hot encoded for the input sequences.\n",
    "  + Train the model on padded sentences rather than random sequences of characters.\n",
    "  + Increase the number of training epochs to 100 or many hundreds.\n",
    "  + Add dropout to the visible input layer and consider tuning the dropout percentage.\n",
    "  + Tune the batch size, try a batch size of 1 as a (very slow) baseline and larger sizes from there.\n",
    "  + Add more memory units to the layers and/or more layers.\n",
    "  + Experiment with scale factors (temperature) when interpreting the prediction probabilities.\n",
    "  + Change the LSTM layers to be “stateful” to maintain state across batches.\n"
   ]
  },
  {
   "cell_type": "markdown",
   "metadata": {},
   "source": [
    "#### Resources\n",
    "\n",
    "This character text model is a popular way for generating text using recurrent neural networks.\n",
    "\n",
    "Below are some more resources and tutorials on the topic if you are interested in going deeper. Perhaps the most popular is the tutorial by Andrej Karpathy titled “The Unreasonable Effectiveness of Recurrent Neural Networks“.\n",
    "\n",
    "+ [Generating Text with Recurrent Neural Networks](http://www.cs.utoronto.ca/~ilya/pubs/2011/LANG-RNN.pdf)\n",
    "+ [Keras code example of LSTM for text generation](https://github.com/fchollet/keras/blob/master/examples/lstm_text_generation.py)\n",
    "+ [Lasagne code example of LSTM for text generation](https://github.com/Lasagne/Recipes/blob/master/examples/lstm_text_generation.py)  \n",
    "+ [MXNet tutorial for using an LSTM for text generation](http://mxnetjl.readthedocs.io/en/latest/tutorial/char-lstm.html)\n",
    "+ [Auto-Generating Clickbait With Recurrent Neural Networks](https://larseidnes.com/2015/10/13/auto-generating-clickbait-with-recurrent-neural-networks/)\n",
    "\n",
    "#### Summary\n",
    "\n",
    "In this notebook you discovered how you can develop an LSTM recurrent neural network for text generation in Python with the Keras deep learning library.\n",
    "\n",
    "+ Where to download the ASCII text for classical books for free that you can use for training.\n",
    "+ How to train an LSTM network on text sequences and how to use the trained network to generate new sequences.\n",
    "+ How to develop stacked LSTM networks and lift the performance of the model."
   ]
  },
  {
   "cell_type": "code",
   "execution_count": null,
   "metadata": {},
   "outputs": [],
   "source": []
  }
 ],
 "metadata": {
  "kernelspec": {
   "display_name": "Python 3",
   "language": "python",
   "name": "python3"
  },
  "language_info": {
   "codemirror_mode": {
    "name": "ipython",
    "version": 3
   },
   "file_extension": ".py",
   "mimetype": "text/x-python",
   "name": "python",
   "nbconvert_exporter": "python",
   "pygments_lexer": "ipython3",
   "version": "3.6.3"
  }
 },
 "nbformat": 4,
 "nbformat_minor": 2
}
